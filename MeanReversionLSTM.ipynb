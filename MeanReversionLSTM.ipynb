{
 "cells": [
  {
   "cell_type": "markdown",
   "metadata": {},
   "source": [
    "This notebook analyzes the possibility of using a spin-off of the mean-reversion investment strategy.\n",
    "In short the idea of the strategy is to have half your capital invested and half in cash, then rebalance back to 50/50 periodically (i.e. sell when market goes up and buy when it goes down). The problem with this strategy is that it requires a constant mean. That's where the lstm comes in. Assuming that the lstm models the true stock price perfectly and that the markets stock price may deviate from it in a normally distributed way and the stock market price and the lstm price move in the same direction more often than not the market price will revert to the lstm price. This way we can use the mean-reversion strategy in a modern way.\n",
    "To test this hypothesis I will first use this notebook to see if the market stock price is normally distributed about the lstm price and if the two prices genrally move in the same direction. I will then construct another script to backtest the strategy."
   ]
  },
  {
   "cell_type": "code",
   "execution_count": 1,
   "metadata": {},
   "outputs": [
    {
     "name": "stderr",
     "output_type": "stream",
     "text": [
      "Using TensorFlow backend.\n"
     ]
    }
   ],
   "source": [
    "import quandl\n",
    "from datetime import datetime, timedelta\n",
    "from pandas import Series, concat, DataFrame\n",
    "import numpy as np\n",
    "from math import sqrt\n",
    "from sklearn.metrics import mean_squared_error\n",
    "from sklearn.preprocessing import StandardScaler, MinMaxScaler\n",
    "from keras.models import load_model\n",
    "import matplotlib.pyplot as plt\n",
    "import seaborn as sns\n",
    "%matplotlib inline"
   ]
  },
  {
   "cell_type": "code",
   "execution_count": 2,
   "metadata": {
    "collapsed": true
   },
   "outputs": [],
   "source": [
    "def get_stock(ticker, start, end, time_range):\n",
    "    #Retrive Stock Data Using Quandl\n",
    "    stock = quandl.get('WIKI/{}'.format(ticker), start_date=start, end_date=end)\n",
    "    #Keep Only Adjusted Closing Price And Adjusted Volume\n",
    "    stock = stock.iloc[:,10:12]\n",
    "    #Resample For Given Time Period\n",
    "    stock = stock.resample('{}'.format(time_range)).mean()\n",
    "    stock.dropna(inplace=True)\n",
    "    return stock"
   ]
  },
  {
   "cell_type": "code",
   "execution_count": 3,
   "metadata": {
    "collapsed": true
   },
   "outputs": [],
   "source": [
    "def preprocess(data):\n",
    "    #Transform Data and Calculate Percent Change\n",
    "    data = np.log(data)\n",
    "    percent_changes = np.empty(data.shape)\n",
    "    for i in range(1, len(data)):\n",
    "        percent_changes[i,:] = (data[i,:] - data[i-1,:])/data[i-1,:]\n",
    "    return percent_changes"
   ]
  },
  {
   "cell_type": "code",
   "execution_count": 4,
   "metadata": {
    "collapsed": true
   },
   "outputs": [],
   "source": [
    "def series_to_supervised(data, n_in, n_out):\n",
    "    #Convert The Data To A Supervised Learning Format\n",
    "    cols = []\n",
    "    df = DataFrame(data)\n",
    "    for i in range(0, n_in+n_out):\n",
    "        cols.append(df.shift(-i))\n",
    "    data = concat(cols, axis=1)\n",
    "    data.dropna(inplace=True)\n",
    "    return data.values"
   ]
  },
  {
   "cell_type": "code",
   "execution_count": 5,
   "metadata": {
    "collapsed": true
   },
   "outputs": [],
   "source": [
    "def scale(train,test):\n",
    "    #Scale The Data Using MinMax\n",
    "    scaler = MinMaxScaler(feature_range=(-1, 1))\n",
    "    scaler = scaler.fit(train)\n",
    "    train_scaled = scaler.transform(train)\n",
    "    test_scaled = scaler.transform(test)\n",
    "    return scaler, train_scaled, test_scaled"
   ]
  },
  {
   "cell_type": "code",
   "execution_count": 6,
   "metadata": {
    "collapsed": true
   },
   "outputs": [],
   "source": [
    "def forecast_lstm(model, batch_size, X):\n",
    "    #Forecasts The Average Price Of The Next Time Period\n",
    "    X = X.reshape(1, len(X), 1)\n",
    "    prediction = model.predict(X, batch_size=batch_size)\n",
    "    return prediction[0,0]"
   ]
  },
  {
   "cell_type": "code",
   "execution_count": 7,
   "metadata": {
    "collapsed": true
   },
   "outputs": [],
   "source": [
    "def inverse_scale(predict, X, scaler):\n",
    "    #Inverse Scales The Data\n",
    "    new_row = [x for x in X] + [predict]\n",
    "    array = np.array(new_row)\n",
    "    array = array.reshape(1, len(array))\n",
    "    inv_scale = scaler.inverse_transform(array)\n",
    "    return inv_scale[0,-1]"
   ]
  },
  {
   "cell_type": "code",
   "execution_count": 8,
   "metadata": {
    "collapsed": true
   },
   "outputs": [],
   "source": [
    "def inverse_preprocess(orig_data, predict, previous):\n",
    "    #Inverse Percent Change And Transformation To Obtain The Actual Value\n",
    "    inv_change = (predict + 1)*np.log(orig_data[-previous,0])\n",
    "    return np.exp(inv_change)"
   ]
  },
  {
   "cell_type": "code",
   "execution_count": 9,
   "metadata": {
    "collapsed": true
   },
   "outputs": [],
   "source": [
    "#Stock Ticker\n",
    "ticker = 'FMC'\n",
    "#Timeframe of stock price data to r\n",
    "train_start = datetime(2010,1,1)\n",
    "train_end = datetime(2015,12,31)\n",
    "test_end = datetime(2017,10,19)\n",
    "#Time range ['M', 'W', 'D', 'A', 'Q']\n",
    "time_range = 'D'\n",
    "#Name of lstm model to be saved\n",
    "model_name = 'model_10_15_D.h5'\n",
    "#Number of time instances to test on\n",
    "test_inst = 12\n",
    "#Number of past stock prices and volumes to use to predict future prices\n",
    "num_prev = 4\n",
    "#Number of future stock prices to predict\n",
    "#Keep at 1 for now, script not updated yet\n",
    "num_pred = 1\n",
    "#Batch Size\n",
    "batch_size = 1"
   ]
  },
  {
   "cell_type": "code",
   "execution_count": 10,
   "metadata": {},
   "outputs": [
    {
     "name": "stdout",
     "output_type": "stream",
     "text": [
      "Retrieving Stock Data...\n",
      "Preprocessing and Formatting Data...\n",
      "Fitting and Testing Model...\n"
     ]
    },
    {
     "data": {
      "image/png": "[encoded data removed]",
      "text/plain": [
       "<matplotlib.figure.Figure at 0x1c4a015a940>"
      ]
     },
     "metadata": {},
     "output_type": "display_data"
    },
    {
     "data": {
      "text/plain": [
       "<matplotlib.axes._subplots.AxesSubplot at 0x1c4a0461320>"
      ]
     },
     "execution_count": 10,
     "metadata": {},
     "output_type": "execute_result"
    },
    {
     "data": {
      "image/png": "[encoded data removed]",
      "text/plain": [
       "<matplotlib.figure.Figure at 0x1c4a05c6be0>"
      ]
     },
     "metadata": {},
     "output_type": "display_data"
    }
   ],
   "source": [
    "print('Retrieving Stock Data...')\n",
    "data = get_stock(ticker, train_start, test_end, time_range)\n",
    "train, test = data[:train_end-timedelta(days=test_inst)].values, data[train_end+timedelta(days=test_inst+num_prev):].values\n",
    "\n",
    "print('Preprocessing and Formatting Data...')\n",
    "train_preprocessed = preprocess(train)\n",
    "test_preprocessed = preprocess(test)\n",
    "\n",
    "train_formatted = series_to_supervised(train_preprocessed, num_prev, num_pred)\n",
    "test_formatted = series_to_supervised(test_preprocessed, num_prev, num_pred)\n",
    "#Drop Last Volume Row As We Are Only Predicting Stock Price\n",
    "train_formatted = train_formatted[:,:-1]\n",
    "test_formatted = test_formatted[:,:-1]\n",
    "scaler, train_scaled, test_scaled = scale(train_formatted, test_formatted)\n",
    "\n",
    "print('Fitting and Testing Model...')\n",
    "error_scores = []\n",
    "model = load_model(model_name)\n",
    "predictions = []\n",
    "for j in range(len(test_scaled)):\n",
    "    X = test_scaled[j,0:-1]\n",
    "    pred = forecast_lstm(model, batch_size, X)\n",
    "    pred_invScale = inverse_scale(pred, X, scaler)\n",
    "    pred_actual = inverse_preprocess(data.values, pred_invScale,len(test_scaled)+1-j)\n",
    "    predictions.append(pred_actual)\n",
    "\n",
    "results = DataFrame()\n",
    "results['Diffs'] = test[num_prev:,0] - np.array(predictions)\n",
    "\n",
    "plt.hist(results['Diffs'],20)\n",
    "plt.show()\n",
    "\n",
    "sns.kdeplot(results['Diffs'])"
   ]
  },
  {
   "cell_type": "code",
   "execution_count": 11,
   "metadata": {},
   "outputs": [
    {
     "data": {
      "text/html": [
       "<div>\n",
       "<style>\n",
       "    .dataframe thead tr:only-child th {\n",
       "        text-align: right;\n",
       "    }\n",
       "\n",
       "    .dataframe thead th {\n",
       "        text-align: left;\n",
       "    }\n",
       "\n",
       "    .dataframe tbody tr th {\n",
       "        vertical-align: top;\n",
       "    }\n",
       "</style>\n",
       "<table border=\"1\" class=\"dataframe\">\n",
       "  <thead>\n",
       "    <tr style=\"text-align: right;\">\n",
       "      <th></th>\n",
       "      <th>Diffs</th>\n",
       "    </tr>\n",
       "  </thead>\n",
       "  <tbody>\n",
       "    <tr>\n",
       "      <th>count</th>\n",
       "      <td>440.000000</td>\n",
       "    </tr>\n",
       "    <tr>\n",
       "      <th>mean</th>\n",
       "      <td>0.318792</td>\n",
       "    </tr>\n",
       "    <tr>\n",
       "      <th>std</th>\n",
       "      <td>1.207513</td>\n",
       "    </tr>\n",
       "    <tr>\n",
       "      <th>min</th>\n",
       "      <td>-4.154541</td>\n",
       "    </tr>\n",
       "    <tr>\n",
       "      <th>25%</th>\n",
       "      <td>-0.297324</td>\n",
       "    </tr>\n",
       "    <tr>\n",
       "      <th>50%</th>\n",
       "      <td>0.287260</td>\n",
       "    </tr>\n",
       "    <tr>\n",
       "      <th>75%</th>\n",
       "      <td>0.895635</td>\n",
       "    </tr>\n",
       "    <tr>\n",
       "      <th>max</th>\n",
       "      <td>8.007180</td>\n",
       "    </tr>\n",
       "  </tbody>\n",
       "</table>\n",
       "</div>"
      ],
      "text/plain": [
       "            Diffs\n",
       "count  440.000000\n",
       "mean     0.318792\n",
       "std      1.207513\n",
       "min     -4.154541\n",
       "25%     -0.297324\n",
       "50%      0.287260\n",
       "75%      0.895635\n",
       "max      8.007180"
      ]
     },
     "execution_count": 11,
     "metadata": {},
     "output_type": "execute_result"
    }
   ],
   "source": [
    "results.describe()"
   ]
  },
  {
   "cell_type": "code",
   "execution_count": 41,
   "metadata": {},
   "outputs": [
    {
     "name": "stdout",
     "output_type": "stream",
     "text": [
      "Percent of Market Price and LSTM Price Moving in the same Direction: 51.025\n"
     ]
    }
   ],
   "source": [
    "#Calculate Percent of the time the past Market price moves in the \n",
    "#same direction to the next Market Price and to the next LSTM price\n",
    "direction = DataFrame()\n",
    "#Change from between past Market Price and next LSTM Price\n",
    "direction['lstm'] = np.array(predictions)[1:] - test[num_prev:-1,0]\n",
    "#Change from between past Market Price and next Market Price\n",
    "direction['market'] = np.diff(test[num_prev:,0])\n",
    "#Positive means they moved in same direction, negative opposite direction\n",
    "direction['product'] = direction['market']*direction['lstm']\n",
    "#All the times they moved in same direction\n",
    "same_direction = direction[direction['product']>=0]\n",
    "percent = 100*len(same_direction)/len(direction)\n",
    "print('Percent of Market Price and LSTM Price Moving in the same Direction: {}'.format(round(percent,3)))"
   ]
  },
  {
   "cell_type": "markdown",
   "metadata": {},
   "source": [
    "The Market Price and the LSTM Price move in the same dircetion just over 50% of the time and with the mean only slightly off from zero and the market stock price being normally distributed about the lstm price the spin-off version of mean-reverison may work. The only way to tell is to backtest it (next step) and the only way to truly 100% tell is to put it into production with the current market (next next step maybe?)"
   ]
  }
 ],
 "metadata": {
  "kernelspec": {
   "display_name": "Python 3",
   "language": "python",
   "name": "python3"
  },
  "language_info": {
   "codemirror_mode": {
    "name": "ipython",
    "version": 3
   },
   "file_extension": ".py",
   "mimetype": "text/x-python",
   "name": "python",
   "nbconvert_exporter": "python",
   "pygments_lexer": "ipython3",
   "version": "3.6.1"
  }
 },
 "nbformat": 4,
 "nbformat_minor": 2
}
